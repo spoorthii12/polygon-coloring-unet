{
  "nbformat": 4,
  "nbformat_minor": 0,
  "metadata": {
    "colab": {
      "provenance": [],
      "gpuType": "T4"
    },
    "kernelspec": {
      "name": "python3",
      "display_name": "Python 3"
    },
    "language_info": {
      "name": "python"
    },
    "accelerator": "GPU",
    "widgets": {
      "application/vnd.jupyter.widget-state+json": {
        "01dbeccff2bd43db9a9e5a9c067c62f1": {
          "model_module": "@jupyter-widgets/controls",
          "model_name": "DropdownModel",
          "model_module_version": "1.5.0",
          "state": {
            "_dom_classes": [],
            "_model_module": "@jupyter-widgets/controls",
            "_model_module_version": "1.5.0",
            "_model_name": "DropdownModel",
            "_options_labels": [
              "circle",
              "diamond",
              "hexagon",
              "octagon",
              "pentagon",
              "square",
              "star",
              "triangle"
            ],
            "_view_count": null,
            "_view_module": "@jupyter-widgets/controls",
            "_view_module_version": "1.5.0",
            "_view_name": "DropdownView",
            "description": "Shape:",
            "description_tooltip": null,
            "disabled": false,
            "index": 1,
            "layout": "IPY_MODEL_e7559563a07349039451544ff682842c",
            "style": "IPY_MODEL_9285173a703c49cb89b46d38d391fe5f"
          }
        },
        "e7559563a07349039451544ff682842c": {
          "model_module": "@jupyter-widgets/base",
          "model_name": "LayoutModel",
          "model_module_version": "1.2.0",
          "state": {
            "_model_module": "@jupyter-widgets/base",
            "_model_module_version": "1.2.0",
            "_model_name": "LayoutModel",
            "_view_count": null,
            "_view_module": "@jupyter-widgets/base",
            "_view_module_version": "1.2.0",
            "_view_name": "LayoutView",
            "align_content": null,
            "align_items": null,
            "align_self": null,
            "border": null,
            "bottom": null,
            "display": null,
            "flex": null,
            "flex_flow": null,
            "grid_area": null,
            "grid_auto_columns": null,
            "grid_auto_flow": null,
            "grid_auto_rows": null,
            "grid_column": null,
            "grid_gap": null,
            "grid_row": null,
            "grid_template_areas": null,
            "grid_template_columns": null,
            "grid_template_rows": null,
            "height": null,
            "justify_content": null,
            "justify_items": null,
            "left": null,
            "margin": null,
            "max_height": null,
            "max_width": null,
            "min_height": null,
            "min_width": null,
            "object_fit": null,
            "object_position": null,
            "order": null,
            "overflow": null,
            "overflow_x": null,
            "overflow_y": null,
            "padding": null,
            "right": null,
            "top": null,
            "visibility": null,
            "width": null
          }
        },
        "9285173a703c49cb89b46d38d391fe5f": {
          "model_module": "@jupyter-widgets/controls",
          "model_name": "DescriptionStyleModel",
          "model_module_version": "1.5.0",
          "state": {
            "_model_module": "@jupyter-widgets/controls",
            "_model_module_version": "1.5.0",
            "_model_name": "DescriptionStyleModel",
            "_view_count": null,
            "_view_module": "@jupyter-widgets/base",
            "_view_module_version": "1.2.0",
            "_view_name": "StyleView",
            "description_width": "initial"
          }
        },
        "f0c867c82d144fdf88b398eefdc7cb10": {
          "model_module": "@jupyter-widgets/controls",
          "model_name": "DropdownModel",
          "model_module_version": "1.5.0",
          "state": {
            "_dom_classes": [],
            "_model_module": "@jupyter-widgets/controls",
            "_model_module_version": "1.5.0",
            "_model_name": "DropdownModel",
            "_options_labels": [
              "red",
              "green",
              "blue",
              "yellow",
              "orange",
              "purple",
              "cyan",
              "magenta"
            ],
            "_view_count": null,
            "_view_module": "@jupyter-widgets/controls",
            "_view_module_version": "1.5.0",
            "_view_name": "DropdownView",
            "description": "Color:",
            "description_tooltip": null,
            "disabled": false,
            "index": 5,
            "layout": "IPY_MODEL_09251ee973a04428823517875e874cb9",
            "style": "IPY_MODEL_633e5c5072074222a08f1f5540011fd6"
          }
        },
        "09251ee973a04428823517875e874cb9": {
          "model_module": "@jupyter-widgets/base",
          "model_name": "LayoutModel",
          "model_module_version": "1.2.0",
          "state": {
            "_model_module": "@jupyter-widgets/base",
            "_model_module_version": "1.2.0",
            "_model_name": "LayoutModel",
            "_view_count": null,
            "_view_module": "@jupyter-widgets/base",
            "_view_module_version": "1.2.0",
            "_view_name": "LayoutView",
            "align_content": null,
            "align_items": null,
            "align_self": null,
            "border": null,
            "bottom": null,
            "display": null,
            "flex": null,
            "flex_flow": null,
            "grid_area": null,
            "grid_auto_columns": null,
            "grid_auto_flow": null,
            "grid_auto_rows": null,
            "grid_column": null,
            "grid_gap": null,
            "grid_row": null,
            "grid_template_areas": null,
            "grid_template_columns": null,
            "grid_template_rows": null,
            "height": null,
            "justify_content": null,
            "justify_items": null,
            "left": null,
            "margin": null,
            "max_height": null,
            "max_width": null,
            "min_height": null,
            "min_width": null,
            "object_fit": null,
            "object_position": null,
            "order": null,
            "overflow": null,
            "overflow_x": null,
            "overflow_y": null,
            "padding": null,
            "right": null,
            "top": null,
            "visibility": null,
            "width": null
          }
        },
        "633e5c5072074222a08f1f5540011fd6": {
          "model_module": "@jupyter-widgets/controls",
          "model_name": "DescriptionStyleModel",
          "model_module_version": "1.5.0",
          "state": {
            "_model_module": "@jupyter-widgets/controls",
            "_model_module_version": "1.5.0",
            "_model_name": "DescriptionStyleModel",
            "_view_count": null,
            "_view_module": "@jupyter-widgets/base",
            "_view_module_version": "1.2.0",
            "_view_name": "StyleView",
            "description_width": "initial"
          }
        },
        "ed17772341a64115b2f9bc530ed36d62": {
          "model_module": "@jupyter-widgets/controls",
          "model_name": "ButtonModel",
          "model_module_version": "1.5.0",
          "state": {
            "_dom_classes": [],
            "_model_module": "@jupyter-widgets/controls",
            "_model_module_version": "1.5.0",
            "_model_name": "ButtonModel",
            "_view_count": null,
            "_view_module": "@jupyter-widgets/controls",
            "_view_module_version": "1.5.0",
            "_view_name": "ButtonView",
            "button_style": "",
            "description": "Generate Colored Polygon",
            "disabled": false,
            "icon": "",
            "layout": "IPY_MODEL_0e15718089294c99adcd60490297d9b3",
            "style": "IPY_MODEL_79014d99fb474492b4e9ee689aad308b",
            "tooltip": ""
          }
        },
        "0e15718089294c99adcd60490297d9b3": {
          "model_module": "@jupyter-widgets/base",
          "model_name": "LayoutModel",
          "model_module_version": "1.2.0",
          "state": {
            "_model_module": "@jupyter-widgets/base",
            "_model_module_version": "1.2.0",
            "_model_name": "LayoutModel",
            "_view_count": null,
            "_view_module": "@jupyter-widgets/base",
            "_view_module_version": "1.2.0",
            "_view_name": "LayoutView",
            "align_content": null,
            "align_items": null,
            "align_self": null,
            "border": null,
            "bottom": null,
            "display": null,
            "flex": null,
            "flex_flow": null,
            "grid_area": null,
            "grid_auto_columns": null,
            "grid_auto_flow": null,
            "grid_auto_rows": null,
            "grid_column": null,
            "grid_gap": null,
            "grid_row": null,
            "grid_template_areas": null,
            "grid_template_columns": null,
            "grid_template_rows": null,
            "height": null,
            "justify_content": null,
            "justify_items": null,
            "left": null,
            "margin": null,
            "max_height": null,
            "max_width": null,
            "min_height": null,
            "min_width": null,
            "object_fit": null,
            "object_position": null,
            "order": null,
            "overflow": null,
            "overflow_x": null,
            "overflow_y": null,
            "padding": null,
            "right": null,
            "top": null,
            "visibility": null,
            "width": null
          }
        },
        "79014d99fb474492b4e9ee689aad308b": {
          "model_module": "@jupyter-widgets/controls",
          "model_name": "ButtonStyleModel",
          "model_module_version": "1.5.0",
          "state": {
            "_model_module": "@jupyter-widgets/controls",
            "_model_module_version": "1.5.0",
            "_model_name": "ButtonStyleModel",
            "_view_count": null,
            "_view_module": "@jupyter-widgets/base",
            "_view_module_version": "1.2.0",
            "_view_name": "StyleView",
            "button_color": null,
            "font_weight": ""
          }
        }
      }
    }
  },
  "cells": [
    {
      "cell_type": "code",
      "execution_count": null,
      "metadata": {
        "colab": {
          "base_uri": "https://localhost:8080/"
        },
        "collapsed": true,
        "id": "aN8dEfAJAdox",
        "outputId": "d40a676b-21d9-4328-b096-cdd3f56a263c"
      },
      "outputs": [
        {
          "output_type": "stream",
          "name": "stdout",
          "text": [
            "Requirement already satisfied: wandb in /usr/local/lib/python3.11/dist-packages (0.21.0)\n",
            "Requirement already satisfied: click!=8.0.0,>=7.1 in /usr/local/lib/python3.11/dist-packages (from wandb) (8.2.1)\n",
            "Requirement already satisfied: gitpython!=3.1.29,>=1.0.0 in /usr/local/lib/python3.11/dist-packages (from wandb) (3.1.45)\n",
            "Requirement already satisfied: packaging in /usr/local/lib/python3.11/dist-packages (from wandb) (25.0)\n",
            "Requirement already satisfied: platformdirs in /usr/local/lib/python3.11/dist-packages (from wandb) (4.3.8)\n",
            "Requirement already satisfied: protobuf!=4.21.0,!=5.28.0,<7,>=3.19.0 in /usr/local/lib/python3.11/dist-packages (from wandb) (5.29.5)\n",
            "Requirement already satisfied: pydantic<3 in /usr/local/lib/python3.11/dist-packages (from wandb) (2.11.7)\n",
            "Requirement already satisfied: pyyaml in /usr/local/lib/python3.11/dist-packages (from wandb) (6.0.2)\n",
            "Requirement already satisfied: requests<3,>=2.0.0 in /usr/local/lib/python3.11/dist-packages (from wandb) (2.32.3)\n",
            "Requirement already satisfied: sentry-sdk>=2.0.0 in /usr/local/lib/python3.11/dist-packages (from wandb) (2.33.2)\n",
            "Requirement already satisfied: typing-extensions<5,>=4.8 in /usr/local/lib/python3.11/dist-packages (from wandb) (4.14.1)\n",
            "Requirement already satisfied: gitdb<5,>=4.0.1 in /usr/local/lib/python3.11/dist-packages (from gitpython!=3.1.29,>=1.0.0->wandb) (4.0.12)\n",
            "Requirement already satisfied: annotated-types>=0.6.0 in /usr/local/lib/python3.11/dist-packages (from pydantic<3->wandb) (0.7.0)\n",
            "Requirement already satisfied: pydantic-core==2.33.2 in /usr/local/lib/python3.11/dist-packages (from pydantic<3->wandb) (2.33.2)\n",
            "Requirement already satisfied: typing-inspection>=0.4.0 in /usr/local/lib/python3.11/dist-packages (from pydantic<3->wandb) (0.4.1)\n",
            "Requirement already satisfied: charset-normalizer<4,>=2 in /usr/local/lib/python3.11/dist-packages (from requests<3,>=2.0.0->wandb) (3.4.2)\n",
            "Requirement already satisfied: idna<4,>=2.5 in /usr/local/lib/python3.11/dist-packages (from requests<3,>=2.0.0->wandb) (3.10)\n",
            "Requirement already satisfied: urllib3<3,>=1.21.1 in /usr/local/lib/python3.11/dist-packages (from requests<3,>=2.0.0->wandb) (2.5.0)\n",
            "Requirement already satisfied: certifi>=2017.4.17 in /usr/local/lib/python3.11/dist-packages (from requests<3,>=2.0.0->wandb) (2025.7.14)\n",
            "Requirement already satisfied: smmap<6,>=3.0.1 in /usr/local/lib/python3.11/dist-packages (from gitdb<5,>=4.0.1->gitpython!=3.1.29,>=1.0.0->wandb) (5.0.2)\n"
          ]
        }
      ],
      "source": [
        "!pip install wandb"
      ]
    },
    {
      "cell_type": "code",
      "source": [
        "import wandb\n",
        "wandb.login()"
      ],
      "metadata": {
        "colab": {
          "base_uri": "https://localhost:8080/"
        },
        "id": "SYsQ33CfLqAY",
        "outputId": "f16ef7ca-5d54-45b9-e5e2-ba58c8b867d2"
      },
      "execution_count": null,
      "outputs": [
        {
          "output_type": "stream",
          "name": "stderr",
          "text": [
            "\u001b[34m\u001b[1mwandb\u001b[0m: \u001b[33mWARNING\u001b[0m Calling wandb.login() after wandb.init() has no effect.\n"
          ]
        },
        {
          "output_type": "execute_result",
          "data": {
            "text/plain": [
              "True"
            ]
          },
          "metadata": {},
          "execution_count": 14
        }
      ]
    },
    {
      "cell_type": "code",
      "source": [
        "import os\n",
        "import json\n",
        "import torch\n",
        "import torch.nn as nn\n",
        "import torch.optim as optim\n",
        "import torchvision.transforms as T\n",
        "from torch.utils.data import Dataset, DataLoader\n",
        "import numpy as np\n",
        "import matplotlib.pyplot as plt\n",
        "from PIL import Image\n",
        "import wandb\n",
        "from pytorch_msssim import ssim"
      ],
      "metadata": {
        "collapsed": true,
        "id": "Eqr1kmUZTUER"
      },
      "execution_count": null,
      "outputs": []
    },
    {
      "cell_type": "code",
      "source": [
        "wandb.login()\n",
        "wandb.init(project='polygon-color-unet')"
      ],
      "metadata": {
        "colab": {
          "base_uri": "https://localhost:8080/",
          "height": 232
        },
        "id": "hJ4czZLrf4yd",
        "outputId": "37ff0124-c65d-4d04-968f-fdf8aedd3a83"
      },
      "execution_count": null,
      "outputs": [
        {
          "output_type": "display_data",
          "data": {
            "text/plain": [
              "<IPython.core.display.Javascript object>"
            ],
            "application/javascript": [
              "\n",
              "        window._wandbApiKey = new Promise((resolve, reject) => {\n",
              "            function loadScript(url) {\n",
              "            return new Promise(function(resolve, reject) {\n",
              "                let newScript = document.createElement(\"script\");\n",
              "                newScript.onerror = reject;\n",
              "                newScript.onload = resolve;\n",
              "                document.body.appendChild(newScript);\n",
              "                newScript.src = url;\n",
              "            });\n",
              "            }\n",
              "            loadScript(\"https://cdn.jsdelivr.net/npm/postmate/build/postmate.min.js\").then(() => {\n",
              "            const iframe = document.createElement('iframe')\n",
              "            iframe.style.cssText = \"width:0;height:0;border:none\"\n",
              "            document.body.appendChild(iframe)\n",
              "            const handshake = new Postmate({\n",
              "                container: iframe,\n",
              "                url: 'https://wandb.ai/authorize'\n",
              "            });\n",
              "            const timeout = setTimeout(() => reject(\"Couldn't auto authenticate\"), 5000)\n",
              "            handshake.then(function(child) {\n",
              "                child.on('authorize', data => {\n",
              "                    clearTimeout(timeout)\n",
              "                    resolve(data)\n",
              "                });\n",
              "            });\n",
              "            })\n",
              "        });\n",
              "    "
            ]
          },
          "metadata": {}
        },
        {
          "output_type": "stream",
          "name": "stderr",
          "text": [
            "\u001b[34m\u001b[1mwandb\u001b[0m: \u001b[33mWARNING\u001b[0m If you're specifying your api key in code, ensure this code is not shared publicly.\n",
            "\u001b[34m\u001b[1mwandb\u001b[0m: \u001b[33mWARNING\u001b[0m Consider setting the WANDB_API_KEY environment variable, or running `wandb login` from the command line.\n",
            "\u001b[34m\u001b[1mwandb\u001b[0m: No netrc file found, creating one.\n",
            "\u001b[34m\u001b[1mwandb\u001b[0m: Appending key for api.wandb.ai to your netrc file: /root/.netrc\n",
            "\u001b[34m\u001b[1mwandb\u001b[0m: Currently logged in as: \u001b[33mvspoorthi-2020\u001b[0m (\u001b[33mvspoorthi\u001b[0m) to \u001b[32mhttps://api.wandb.ai\u001b[0m. Use \u001b[1m`wandb login --relogin`\u001b[0m to force relogin\n"
          ]
        },
        {
          "output_type": "display_data",
          "data": {
            "text/plain": [
              "<IPython.core.display.HTML object>"
            ],
            "text/html": [
              "Tracking run with wandb version 0.21.0"
            ]
          },
          "metadata": {}
        },
        {
          "output_type": "display_data",
          "data": {
            "text/plain": [
              "<IPython.core.display.HTML object>"
            ],
            "text/html": [
              "Run data is saved locally in <code>/content/wandb/run-20250805_094247-hzxo7szj</code>"
            ]
          },
          "metadata": {}
        },
        {
          "output_type": "display_data",
          "data": {
            "text/plain": [
              "<IPython.core.display.HTML object>"
            ],
            "text/html": [
              "Syncing run <strong><a href='https://wandb.ai/vspoorthi/polygon-color-unet/runs/hzxo7szj' target=\"_blank\">drawn-planet-11</a></strong> to <a href='https://wandb.ai/vspoorthi/polygon-color-unet' target=\"_blank\">Weights & Biases</a> (<a href='https://wandb.me/developer-guide' target=\"_blank\">docs</a>)<br>"
            ]
          },
          "metadata": {}
        },
        {
          "output_type": "display_data",
          "data": {
            "text/plain": [
              "<IPython.core.display.HTML object>"
            ],
            "text/html": [
              " View project at <a href='https://wandb.ai/vspoorthi/polygon-color-unet' target=\"_blank\">https://wandb.ai/vspoorthi/polygon-color-unet</a>"
            ]
          },
          "metadata": {}
        },
        {
          "output_type": "display_data",
          "data": {
            "text/plain": [
              "<IPython.core.display.HTML object>"
            ],
            "text/html": [
              " View run at <a href='https://wandb.ai/vspoorthi/polygon-color-unet/runs/hzxo7szj' target=\"_blank\">https://wandb.ai/vspoorthi/polygon-color-unet/runs/hzxo7szj</a>"
            ]
          },
          "metadata": {}
        },
        {
          "output_type": "execute_result",
          "data": {
            "text/html": [
              "<button onClick=\"this.nextSibling.style.display='block';this.style.display='none';\">Display W&B run</button><iframe src='https://wandb.ai/vspoorthi/polygon-color-unet/runs/hzxo7szj?jupyter=true' style='border:none;width:100%;height:420px;display:none;'></iframe>"
            ],
            "text/plain": [
              "<wandb.sdk.wandb_run.Run at 0x7c24289b4590>"
            ]
          },
          "metadata": {},
          "execution_count": 15
        }
      ]
    },
    {
      "cell_type": "code",
      "source": [
        "IMG_SIZE = 128\n",
        "BATCH_SIZE = 16\n",
        "NUM_EPOCHS = 20\n",
        "NUM_COLORS = 8\n",
        "LR = 1e-3\n",
        "COLOR_LIST = [\"red\", \"green\", \"blue\", \"yellow\", \"orange\", \"purple\", \"cyan\", \"magenta\"]\n",
        "\n",
        "training_dataset_path = '/content/drive/MyDrive/dataset_Ayna/training'\n",
        "validation_dataset_path = '/content/drive/MyDrive/dataset_Ayna/validation'\n"
      ],
      "metadata": {
        "id": "Jjh9bC_caK7I"
      },
      "execution_count": null,
      "outputs": []
    },
    {
      "cell_type": "code",
      "source": [
        "device = torch.device('cuda' if torch.cuda.is_available() else 'cpu')\n",
        "\n",
        "def color_to_onehot(color):\n",
        "    vec = [0] * len(COLOR_LIST)\n",
        "    if color not in COLOR_LIST:\n",
        "        raise ValueError(f\"Color '{color}' not in COLOR_LIST\")\n",
        "    vec[COLOR_LIST.index(color)] = 1\n",
        "    return np.array(vec)\n",
        "\n",
        "def load_dataset_from_path(dataset_path):\n",
        "    with open(os.path.join(dataset_path, 'data.json')) as f:\n",
        "        data_json = json.load(f)\n",
        "\n",
        "    inputs_dir = os.path.join(dataset_path, 'inputs')\n",
        "    outputs_dir = os.path.join(dataset_path, 'outputs')\n",
        "\n",
        "    data_list = []\n",
        "    for item in data_json:\n",
        "        data_list.append({\n",
        "            'input': os.path.join(inputs_dir, item['input_polygon']),\n",
        "            'output': os.path.join(outputs_dir, item['output_image']),\n",
        "            'color': item['colour']\n",
        "        })\n",
        "    return data_list\n",
        "\n",
        "transform = T.Compose([\n",
        "    T.Resize((IMG_SIZE, IMG_SIZE)),\n",
        "    T.ToTensor()\n",
        "])\n",
        "\n",
        "class PolygonColorDataset(Dataset):\n",
        "    def __init__(self, data_list, transform=None):\n",
        "        self.data_list = data_list\n",
        "        self.transform = transform or T.ToTensor()\n",
        "\n",
        "    def __len__(self):\n",
        "        return len(self.data_list)\n",
        "\n",
        "    def __getitem__(self, idx):\n",
        "        item = self.data_list[idx]\n",
        "        polygon_img = Image.open(item['input']).convert('RGB')\n",
        "        output_img = Image.open(item['output']).convert('RGB')\n",
        "        color_vec = torch.tensor(color_to_onehot(item['color'])).float()\n",
        "        if self.transform:\n",
        "            polygon_img = self.transform(polygon_img)\n",
        "            output_img = self.transform(output_img)\n",
        "        return polygon_img, color_vec, output_img\n",
        "\n",
        "train_dataset = PolygonColorDataset(load_dataset_from_path(training_dataset_path), transform)\n",
        "val_dataset = PolygonColorDataset(load_dataset_from_path(validation_dataset_path), transform)\n",
        "\n",
        "train_loader = DataLoader(train_dataset, batch_size=BATCH_SIZE, shuffle=True)\n",
        "val_loader = DataLoader(val_dataset, batch_size=BATCH_SIZE, shuffle=False)\n"
      ],
      "metadata": {
        "id": "ZRpjx4pFaP_d"
      },
      "execution_count": null,
      "outputs": []
    },
    {
      "cell_type": "code",
      "source": [
        "class DoubleConv(nn.Module):\n",
        "    def __init__(self, in_channels, out_channels):\n",
        "        super().__init__()\n",
        "        self.conv = nn.Sequential(\n",
        "            nn.Conv2d(in_channels, out_channels, 3, padding=1),\n",
        "            nn.BatchNorm2d(out_channels),\n",
        "            nn.ReLU(inplace=True),\n",
        "            nn.Conv2d(out_channels, out_channels, 3, padding=1),\n",
        "            nn.BatchNorm2d(out_channels),\n",
        "            nn.ReLU(inplace=True)\n",
        "        )\n",
        "    def forward(self, x):\n",
        "        return self.conv(x)\n",
        "\n",
        "class UNet(nn.Module):\n",
        "    def __init__(self, in_channels=3, out_channels=3, num_colors=8):\n",
        "        super().__init__()\n",
        "        input_channels = in_channels + num_colors\n",
        "        self.inc = DoubleConv(input_channels, 64)\n",
        "        self.down1 = nn.Sequential(nn.MaxPool2d(2), DoubleConv(64, 128))\n",
        "        self.down2 = nn.Sequential(nn.MaxPool2d(2), DoubleConv(128, 256))\n",
        "        self.down3 = nn.Sequential(nn.MaxPool2d(2), DoubleConv(256, 512))\n",
        "\n",
        "        self.up1_transpose = nn.ConvTranspose2d(512, 256, 2, stride=2)\n",
        "        self.up1_conv = DoubleConv(512, 256)\n",
        "        self.up2_transpose = nn.ConvTranspose2d(256, 128, 2, stride=2)\n",
        "        self.up2_conv = DoubleConv(256, 128)\n",
        "        self.up3_transpose = nn.ConvTranspose2d(128, 64, 2, stride=2)\n",
        "        self.up3_conv = DoubleConv(128, 64)\n",
        "        self.outc = nn.Conv2d(64, out_channels, 1)\n",
        "\n",
        "    def forward(self, x, color_vec):\n",
        "        b, _, h, w = x.size()\n",
        "        color_expand = color_vec.unsqueeze(2).unsqueeze(3).expand(b, color_vec.shape[1], h, w)\n",
        "        x = torch.cat([x, color_expand], dim=1)\n",
        "\n",
        "        c1 = self.inc(x)\n",
        "        c2 = self.down1(c1)\n",
        "        c3 = self.down2(c2)\n",
        "        c4 = self.down3(c3)\n",
        "\n",
        "        u1 = self.up1_transpose(c4)\n",
        "        if u1.shape[2:] != c3.shape[2:]:\n",
        "            u1 = nn.functional.interpolate(u1, size=c3.shape[2:], mode='bilinear', align_corners=False)\n",
        "        u1 = self.up1_conv(torch.cat([u1, c3], dim=1))\n",
        "\n",
        "        u2 = self.up2_transpose(u1)\n",
        "        if u2.shape[2:] != c2.shape[2:]:\n",
        "            u2 = nn.functional.interpolate(u2, size=c2.shape[2:], mode='bilinear', align_corners=False)\n",
        "        u2 = self.up2_conv(torch.cat([u2, c2], dim=1))\n",
        "\n",
        "        u3 = self.up3_transpose(u2)\n",
        "        if u3.shape[2:] != c1.shape[2:]:\n",
        "            u3 = nn.functional.interpolate(u3, size=c1.shape[2:], mode='bilinear', align_corners=False)\n",
        "        u3 = self.up3_conv(torch.cat([u3, c1], dim=1))\n",
        "\n",
        "        return torch.sigmoid(self.outc(u3))\n"
      ],
      "metadata": {
        "id": "xmBs9CLTaTD9"
      },
      "execution_count": null,
      "outputs": []
    },
    {
      "cell_type": "code",
      "source": [
        "model = UNet(in_channels=3, out_channels=3, num_colors=NUM_COLORS).to(device)\n",
        "optimizer = optim.Adam(model.parameters(), lr=LR)\n",
        "criterion = nn.MSELoss()\n",
        "best_val_ssim = -float('inf')\n",
        "\n",
        "print(f\"Total trainable parameters: {sum(p.numel() for p in model.parameters() if p.requires_grad):,}\")\n",
        "\n",
        "def psnr(pred, target, max_val=1.0):\n",
        "    mse = torch.mean((pred - target) ** 2)\n",
        "    if mse == 0:\n",
        "        return float('inf')\n",
        "    return 20 * torch.log10(max_val / torch.sqrt(mse))\n",
        "\n",
        "def validate():\n",
        "    model.eval()\n",
        "    total_loss = total_mae = total_psnr = total_ssim = 0\n",
        "\n",
        "    with torch.no_grad():\n",
        "        for polygon_img, color_vec, target_img in val_loader:\n",
        "            polygon_img, target_img, color_vec = polygon_img.to(device), target_img.to(device), color_vec.to(device)\n",
        "            preds = model(polygon_img, color_vec)\n",
        "\n",
        "            total_loss += criterion(preds, target_img).item()\n",
        "            total_mae += torch.mean(torch.abs(preds - target_img)).item()\n",
        "            total_psnr += psnr(preds, target_img).item()\n",
        "            total_ssim += ssim(preds, target_img, data_range=1.0, size_average=True).item()\n",
        "\n",
        "    count = len(val_loader)\n",
        "    return total_loss/count, total_mae/count, total_psnr/count, total_ssim/count\n",
        "\n",
        "def train():\n",
        "    global best_val_ssim\n",
        "    for epoch in range(NUM_EPOCHS):\n",
        "        model.train()\n",
        "        total_loss = 0\n",
        "\n",
        "        for polygon_img, color_vec, target_img in train_loader:\n",
        "            polygon_img, target_img, color_vec = polygon_img.to(device), target_img.to(device), color_vec.to(device)\n",
        "            preds = model(polygon_img, color_vec)\n",
        "\n",
        "            loss = criterion(preds, target_img)\n",
        "            optimizer.zero_grad()\n",
        "            loss.backward()\n",
        "            optimizer.step()\n",
        "            total_loss += loss.item()\n",
        "\n",
        "        avg_train_loss = total_loss / len(train_loader)\n",
        "        val_loss, val_mae, val_psnr, val_ssim = validate()\n",
        "\n",
        "        wandb.log({\n",
        "            'epoch': epoch+1,\n",
        "            'train_loss': avg_train_loss,\n",
        "            'val_loss': val_loss,\n",
        "            'val_mae': val_mae,\n",
        "            'val_psnr': val_psnr,\n",
        "            'val_ssim': val_ssim\n",
        "        })\n",
        "\n",
        "        print(f\"Epoch [{epoch+1}/{NUM_EPOCHS}] Train Loss: {avg_train_loss:.4f} | Val Loss: {val_loss:.4f} | MAE: {val_mae:.4f} | PSNR: {val_psnr:.2f} | SSIM: {val_ssim:.4f}\")\n",
        "\n",
        "        if val_ssim > best_val_ssim:\n",
        "            best_val_ssim = val_ssim\n",
        "            torch.save(model.state_dict(), '/content/drive/MyDrive/best_model.pth')\n",
        "            print(\"💾 Saved best model (based on SSIM)!\")\n",
        "\n",
        "    print(\"🎉 Training completed!\")\n",
        "\n",
        "train()\n"
      ],
      "metadata": {
        "colab": {
          "base_uri": "https://localhost:8080/"
        },
        "collapsed": true,
        "id": "EUIfYUM9aV3o",
        "outputId": "a61db547-c44b-4217-a864-2933217725cc"
      },
      "execution_count": null,
      "outputs": [
        {
          "output_type": "stream",
          "name": "stdout",
          "text": [
            "Total trainable parameters: 7,707,715\n",
            "Epoch [1/20] Train Loss: 0.2072 | Val Loss: 0.2422 | MAE: 0.4920 | PSNR: 6.16 | SSIM: 0.7207\n",
            "💾 Saved best model (based on SSIM)!\n",
            "Epoch [2/20] Train Loss: 0.1669 | Val Loss: 0.2213 | MAE: 0.4699 | PSNR: 6.55 | SSIM: 0.7384\n",
            "💾 Saved best model (based on SSIM)!\n",
            "Epoch [3/20] Train Loss: 0.1430 | Val Loss: 0.1942 | MAE: 0.4389 | PSNR: 7.12 | SSIM: 0.7615\n",
            "💾 Saved best model (based on SSIM)!\n",
            "Epoch [4/20] Train Loss: 0.1256 | Val Loss: 0.1633 | MAE: 0.3994 | PSNR: 7.87 | SSIM: 0.7884\n",
            "💾 Saved best model (based on SSIM)!\n",
            "Epoch [5/20] Train Loss: 0.1139 | Val Loss: 0.1339 | MAE: 0.3560 | PSNR: 8.73 | SSIM: 0.8137\n",
            "💾 Saved best model (based on SSIM)!\n",
            "Epoch [6/20] Train Loss: 0.0955 | Val Loss: 0.1102 | MAE: 0.3158 | PSNR: 9.58 | SSIM: 0.8265\n",
            "💾 Saved best model (based on SSIM)!\n",
            "Epoch [7/20] Train Loss: 0.0855 | Val Loss: 0.0937 | MAE: 0.2859 | PSNR: 10.28 | SSIM: 0.8375\n",
            "💾 Saved best model (based on SSIM)!\n",
            "Epoch [8/20] Train Loss: 0.0680 | Val Loss: 0.0785 | MAE: 0.2536 | PSNR: 11.05 | SSIM: 0.8518\n",
            "💾 Saved best model (based on SSIM)!\n",
            "Epoch [9/20] Train Loss: 0.0582 | Val Loss: 0.0722 | MAE: 0.2367 | PSNR: 11.41 | SSIM: 0.7972\n",
            "Epoch [10/20] Train Loss: 0.0550 | Val Loss: 0.0546 | MAE: 0.2142 | PSNR: 12.63 | SSIM: 0.8663\n",
            "💾 Saved best model (based on SSIM)!\n",
            "Epoch [11/20] Train Loss: 0.0421 | Val Loss: 0.0608 | MAE: 0.2144 | PSNR: 12.16 | SSIM: 0.8674\n",
            "💾 Saved best model (based on SSIM)!\n",
            "Epoch [12/20] Train Loss: 0.0364 | Val Loss: 0.0619 | MAE: 0.2090 | PSNR: 12.08 | SSIM: 0.8692\n",
            "💾 Saved best model (based on SSIM)!\n",
            "Epoch [13/20] Train Loss: 0.0330 | Val Loss: 0.0589 | MAE: 0.1946 | PSNR: 12.30 | SSIM: 0.8761\n",
            "💾 Saved best model (based on SSIM)!\n",
            "Epoch [14/20] Train Loss: 0.0281 | Val Loss: 0.0319 | MAE: 0.1671 | PSNR: 14.96 | SSIM: 0.8826\n",
            "💾 Saved best model (based on SSIM)!\n",
            "Epoch [15/20] Train Loss: 0.0268 | Val Loss: 0.0308 | MAE: 0.1600 | PSNR: 15.12 | SSIM: 0.8883\n",
            "💾 Saved best model (based on SSIM)!\n",
            "Epoch [16/20] Train Loss: 0.0224 | Val Loss: 0.0224 | MAE: 0.1375 | PSNR: 16.50 | SSIM: 0.8947\n",
            "💾 Saved best model (based on SSIM)!\n",
            "Epoch [17/20] Train Loss: 0.0214 | Val Loss: 0.0167 | MAE: 0.1229 | PSNR: 17.77 | SSIM: 0.8985\n",
            "💾 Saved best model (based on SSIM)!\n",
            "Epoch [18/20] Train Loss: 0.0192 | Val Loss: 0.0185 | MAE: 0.1269 | PSNR: 17.34 | SSIM: 0.9011\n",
            "💾 Saved best model (based on SSIM)!\n",
            "Epoch [19/20] Train Loss: 0.0163 | Val Loss: 0.0171 | MAE: 0.1190 | PSNR: 17.68 | SSIM: 0.8985\n",
            "Epoch [20/20] Train Loss: 0.0150 | Val Loss: 0.0121 | MAE: 0.1040 | PSNR: 19.17 | SSIM: 0.9011\n",
            "🎉 Training completed!\n"
          ]
        }
      ]
    },
    {
      "cell_type": "code",
      "source": [
        "!pip install pytorch-msssim"
      ],
      "metadata": {
        "colab": {
          "base_uri": "https://localhost:8080/"
        },
        "collapsed": true,
        "id": "fJCHuZugdpFX",
        "outputId": "da620c11-11e3-47a9-dacb-1d54ac78e48b"
      },
      "execution_count": null,
      "outputs": [
        {
          "output_type": "stream",
          "name": "stdout",
          "text": [
            "Collecting pytorch-msssim\n",
            "  Downloading pytorch_msssim-1.0.0-py3-none-any.whl.metadata (8.0 kB)\n",
            "Requirement already satisfied: torch in /usr/local/lib/python3.11/dist-packages (from pytorch-msssim) (2.6.0+cu124)\n",
            "Requirement already satisfied: filelock in /usr/local/lib/python3.11/dist-packages (from torch->pytorch-msssim) (3.18.0)\n",
            "Requirement already satisfied: typing-extensions>=4.10.0 in /usr/local/lib/python3.11/dist-packages (from torch->pytorch-msssim) (4.14.1)\n",
            "Requirement already satisfied: networkx in /usr/local/lib/python3.11/dist-packages (from torch->pytorch-msssim) (3.5)\n",
            "Requirement already satisfied: jinja2 in /usr/local/lib/python3.11/dist-packages (from torch->pytorch-msssim) (3.1.6)\n",
            "Requirement already satisfied: fsspec in /usr/local/lib/python3.11/dist-packages (from torch->pytorch-msssim) (2025.3.0)\n",
            "Collecting nvidia-cuda-nvrtc-cu12==12.4.127 (from torch->pytorch-msssim)\n",
            "  Downloading nvidia_cuda_nvrtc_cu12-12.4.127-py3-none-manylinux2014_x86_64.whl.metadata (1.5 kB)\n",
            "Collecting nvidia-cuda-runtime-cu12==12.4.127 (from torch->pytorch-msssim)\n",
            "  Downloading nvidia_cuda_runtime_cu12-12.4.127-py3-none-manylinux2014_x86_64.whl.metadata (1.5 kB)\n",
            "Collecting nvidia-cuda-cupti-cu12==12.4.127 (from torch->pytorch-msssim)\n",
            "  Downloading nvidia_cuda_cupti_cu12-12.4.127-py3-none-manylinux2014_x86_64.whl.metadata (1.6 kB)\n",
            "Collecting nvidia-cudnn-cu12==9.1.0.70 (from torch->pytorch-msssim)\n",
            "  Downloading nvidia_cudnn_cu12-9.1.0.70-py3-none-manylinux2014_x86_64.whl.metadata (1.6 kB)\n",
            "Collecting nvidia-cublas-cu12==12.4.5.8 (from torch->pytorch-msssim)\n",
            "  Downloading nvidia_cublas_cu12-12.4.5.8-py3-none-manylinux2014_x86_64.whl.metadata (1.5 kB)\n",
            "Collecting nvidia-cufft-cu12==11.2.1.3 (from torch->pytorch-msssim)\n",
            "  Downloading nvidia_cufft_cu12-11.2.1.3-py3-none-manylinux2014_x86_64.whl.metadata (1.5 kB)\n",
            "Collecting nvidia-curand-cu12==10.3.5.147 (from torch->pytorch-msssim)\n",
            "  Downloading nvidia_curand_cu12-10.3.5.147-py3-none-manylinux2014_x86_64.whl.metadata (1.5 kB)\n",
            "Collecting nvidia-cusolver-cu12==11.6.1.9 (from torch->pytorch-msssim)\n",
            "  Downloading nvidia_cusolver_cu12-11.6.1.9-py3-none-manylinux2014_x86_64.whl.metadata (1.6 kB)\n",
            "Collecting nvidia-cusparse-cu12==12.3.1.170 (from torch->pytorch-msssim)\n",
            "  Downloading nvidia_cusparse_cu12-12.3.1.170-py3-none-manylinux2014_x86_64.whl.metadata (1.6 kB)\n",
            "Requirement already satisfied: nvidia-cusparselt-cu12==0.6.2 in /usr/local/lib/python3.11/dist-packages (from torch->pytorch-msssim) (0.6.2)\n",
            "Requirement already satisfied: nvidia-nccl-cu12==2.21.5 in /usr/local/lib/python3.11/dist-packages (from torch->pytorch-msssim) (2.21.5)\n",
            "Requirement already satisfied: nvidia-nvtx-cu12==12.4.127 in /usr/local/lib/python3.11/dist-packages (from torch->pytorch-msssim) (12.4.127)\n",
            "Collecting nvidia-nvjitlink-cu12==12.4.127 (from torch->pytorch-msssim)\n",
            "  Downloading nvidia_nvjitlink_cu12-12.4.127-py3-none-manylinux2014_x86_64.whl.metadata (1.5 kB)\n",
            "Requirement already satisfied: triton==3.2.0 in /usr/local/lib/python3.11/dist-packages (from torch->pytorch-msssim) (3.2.0)\n",
            "Requirement already satisfied: sympy==1.13.1 in /usr/local/lib/python3.11/dist-packages (from torch->pytorch-msssim) (1.13.1)\n",
            "Requirement already satisfied: mpmath<1.4,>=1.1.0 in /usr/local/lib/python3.11/dist-packages (from sympy==1.13.1->torch->pytorch-msssim) (1.3.0)\n",
            "Requirement already satisfied: MarkupSafe>=2.0 in /usr/local/lib/python3.11/dist-packages (from jinja2->torch->pytorch-msssim) (3.0.2)\n",
            "Downloading pytorch_msssim-1.0.0-py3-none-any.whl (7.7 kB)\n",
            "Downloading nvidia_cublas_cu12-12.4.5.8-py3-none-manylinux2014_x86_64.whl (363.4 MB)\n",
            "\u001b[2K   \u001b[90m━━━━━━━━━━━━━━━━━━━━━━━━━━━━━━━━━━━━━━━━\u001b[0m \u001b[32m363.4/363.4 MB\u001b[0m \u001b[31m5.1 MB/s\u001b[0m eta \u001b[36m0:00:00\u001b[0m\n",
            "\u001b[?25hDownloading nvidia_cuda_cupti_cu12-12.4.127-py3-none-manylinux2014_x86_64.whl (13.8 MB)\n",
            "\u001b[2K   \u001b[90m━━━━━━━━━━━━━━━━━━━━━━━━━━━━━━━━━━━━━━━━\u001b[0m \u001b[32m13.8/13.8 MB\u001b[0m \u001b[31m57.8 MB/s\u001b[0m eta \u001b[36m0:00:00\u001b[0m\n",
            "\u001b[?25hDownloading nvidia_cuda_nvrtc_cu12-12.4.127-py3-none-manylinux2014_x86_64.whl (24.6 MB)\n",
            "\u001b[2K   \u001b[90m━━━━━━━━━━━━━━━━━━━━━━━━━━━━━━━━━━━━━━━━\u001b[0m \u001b[32m24.6/24.6 MB\u001b[0m \u001b[31m74.8 MB/s\u001b[0m eta \u001b[36m0:00:00\u001b[0m\n",
            "\u001b[?25hDownloading nvidia_cuda_runtime_cu12-12.4.127-py3-none-manylinux2014_x86_64.whl (883 kB)\n",
            "\u001b[2K   \u001b[90m━━━━━━━━━━━━━━━━━━━━━━━━━━━━━━━━━━━━━━━━\u001b[0m \u001b[32m883.7/883.7 kB\u001b[0m \u001b[31m55.4 MB/s\u001b[0m eta \u001b[36m0:00:00\u001b[0m\n",
            "\u001b[?25hDownloading nvidia_cudnn_cu12-9.1.0.70-py3-none-manylinux2014_x86_64.whl (664.8 MB)\n",
            "\u001b[2K   \u001b[90m━━━━━━━━━━━━━━━━━━━━━━━━━━━━━━━━━━━━━━━━\u001b[0m \u001b[32m664.8/664.8 MB\u001b[0m \u001b[31m1.3 MB/s\u001b[0m eta \u001b[36m0:00:00\u001b[0m\n",
            "\u001b[?25hDownloading nvidia_cufft_cu12-11.2.1.3-py3-none-manylinux2014_x86_64.whl (211.5 MB)\n",
            "\u001b[2K   \u001b[90m━━━━━━━━━━━━━━━━━━━━━━━━━━━━━━━━━━━━━━━━\u001b[0m \u001b[32m211.5/211.5 MB\u001b[0m \u001b[31m5.4 MB/s\u001b[0m eta \u001b[36m0:00:00\u001b[0m\n",
            "\u001b[?25hDownloading nvidia_curand_cu12-10.3.5.147-py3-none-manylinux2014_x86_64.whl (56.3 MB)\n",
            "\u001b[2K   \u001b[90m━━━━━━━━━━━━━━━━━━━━━━━━━━━━━━━━━━━━━━━━\u001b[0m \u001b[32m56.3/56.3 MB\u001b[0m \u001b[31m14.4 MB/s\u001b[0m eta \u001b[36m0:00:00\u001b[0m\n",
            "\u001b[?25hDownloading nvidia_cusolver_cu12-11.6.1.9-py3-none-manylinux2014_x86_64.whl (127.9 MB)\n",
            "\u001b[2K   \u001b[90m━━━━━━━━━━━━━━━━━━━━━━━━━━━━━━━━━━━━━━━━\u001b[0m \u001b[32m127.9/127.9 MB\u001b[0m \u001b[31m7.3 MB/s\u001b[0m eta \u001b[36m0:00:00\u001b[0m\n",
            "\u001b[?25hDownloading nvidia_cusparse_cu12-12.3.1.170-py3-none-manylinux2014_x86_64.whl (207.5 MB)\n",
            "\u001b[2K   \u001b[90m━━━━━━━━━━━━━━━━━━━━━━━━━━━━━━━━━━━━━━━━\u001b[0m \u001b[32m207.5/207.5 MB\u001b[0m \u001b[31m5.5 MB/s\u001b[0m eta \u001b[36m0:00:00\u001b[0m\n",
            "\u001b[?25hDownloading nvidia_nvjitlink_cu12-12.4.127-py3-none-manylinux2014_x86_64.whl (21.1 MB)\n",
            "\u001b[2K   \u001b[90m━━━━━━━━━━━━━━━━━━━━━━━━━━━━━━━━━━━━━━━━\u001b[0m \u001b[32m21.1/21.1 MB\u001b[0m \u001b[31m43.5 MB/s\u001b[0m eta \u001b[36m0:00:00\u001b[0m\n",
            "\u001b[?25hInstalling collected packages: nvidia-nvjitlink-cu12, nvidia-curand-cu12, nvidia-cufft-cu12, nvidia-cuda-runtime-cu12, nvidia-cuda-nvrtc-cu12, nvidia-cuda-cupti-cu12, nvidia-cublas-cu12, nvidia-cusparse-cu12, nvidia-cudnn-cu12, nvidia-cusolver-cu12, pytorch-msssim\n",
            "  Attempting uninstall: nvidia-nvjitlink-cu12\n",
            "    Found existing installation: nvidia-nvjitlink-cu12 12.5.82\n",
            "    Uninstalling nvidia-nvjitlink-cu12-12.5.82:\n",
            "      Successfully uninstalled nvidia-nvjitlink-cu12-12.5.82\n",
            "  Attempting uninstall: nvidia-curand-cu12\n",
            "    Found existing installation: nvidia-curand-cu12 10.3.6.82\n",
            "    Uninstalling nvidia-curand-cu12-10.3.6.82:\n",
            "      Successfully uninstalled nvidia-curand-cu12-10.3.6.82\n",
            "  Attempting uninstall: nvidia-cufft-cu12\n",
            "    Found existing installation: nvidia-cufft-cu12 11.2.3.61\n",
            "    Uninstalling nvidia-cufft-cu12-11.2.3.61:\n",
            "      Successfully uninstalled nvidia-cufft-cu12-11.2.3.61\n",
            "  Attempting uninstall: nvidia-cuda-runtime-cu12\n",
            "    Found existing installation: nvidia-cuda-runtime-cu12 12.5.82\n",
            "    Uninstalling nvidia-cuda-runtime-cu12-12.5.82:\n",
            "      Successfully uninstalled nvidia-cuda-runtime-cu12-12.5.82\n",
            "  Attempting uninstall: nvidia-cuda-nvrtc-cu12\n",
            "    Found existing installation: nvidia-cuda-nvrtc-cu12 12.5.82\n",
            "    Uninstalling nvidia-cuda-nvrtc-cu12-12.5.82:\n",
            "      Successfully uninstalled nvidia-cuda-nvrtc-cu12-12.5.82\n",
            "  Attempting uninstall: nvidia-cuda-cupti-cu12\n",
            "    Found existing installation: nvidia-cuda-cupti-cu12 12.5.82\n",
            "    Uninstalling nvidia-cuda-cupti-cu12-12.5.82:\n",
            "      Successfully uninstalled nvidia-cuda-cupti-cu12-12.5.82\n",
            "  Attempting uninstall: nvidia-cublas-cu12\n",
            "    Found existing installation: nvidia-cublas-cu12 12.5.3.2\n",
            "    Uninstalling nvidia-cublas-cu12-12.5.3.2:\n",
            "      Successfully uninstalled nvidia-cublas-cu12-12.5.3.2\n",
            "  Attempting uninstall: nvidia-cusparse-cu12\n",
            "    Found existing installation: nvidia-cusparse-cu12 12.5.1.3\n",
            "    Uninstalling nvidia-cusparse-cu12-12.5.1.3:\n",
            "      Successfully uninstalled nvidia-cusparse-cu12-12.5.1.3\n",
            "  Attempting uninstall: nvidia-cudnn-cu12\n",
            "    Found existing installation: nvidia-cudnn-cu12 9.3.0.75\n",
            "    Uninstalling nvidia-cudnn-cu12-9.3.0.75:\n",
            "      Successfully uninstalled nvidia-cudnn-cu12-9.3.0.75\n",
            "  Attempting uninstall: nvidia-cusolver-cu12\n",
            "    Found existing installation: nvidia-cusolver-cu12 11.6.3.83\n",
            "    Uninstalling nvidia-cusolver-cu12-11.6.3.83:\n",
            "      Successfully uninstalled nvidia-cusolver-cu12-11.6.3.83\n",
            "Successfully installed nvidia-cublas-cu12-12.4.5.8 nvidia-cuda-cupti-cu12-12.4.127 nvidia-cuda-nvrtc-cu12-12.4.127 nvidia-cuda-runtime-cu12-12.4.127 nvidia-cudnn-cu12-9.1.0.70 nvidia-cufft-cu12-11.2.1.3 nvidia-curand-cu12-10.3.5.147 nvidia-cusolver-cu12-11.6.1.9 nvidia-cusparse-cu12-12.3.1.170 nvidia-nvjitlink-cu12-12.4.127 pytorch-msssim-1.0.0\n"
          ]
        }
      ]
    },
    {
      "cell_type": "code",
      "source": [
        "def generate_colored_polygon(polygon_image_path, color_name):\n",
        "    \"\"\"Generate colored polygon with the trained model\"\"\"\n",
        "    model = UNet(in_channels=3, out_channels=3, num_colors=8).to(device)\n",
        "    model.load_state_dict(torch.load('/content/drive/MyDrive/best_model.pth'))\n",
        "    model.eval()\n",
        "\n",
        "    polygon_img = Image.open(polygon_image_path).convert('RGB')\n",
        "    original_img = polygon_img.copy()\n",
        "    polygon_img = transform(polygon_img).unsqueeze(0).to(device)\n",
        "\n",
        "    color_vec = torch.tensor(color_to_onehot(color_name)).float().to(device).unsqueeze(0)\n",
        "\n",
        "    with torch.no_grad():\n",
        "        pred = model(polygon_img, color_vec)\n",
        "\n",
        "    pred_img = pred.squeeze(0).cpu().permute(1, 2, 0).numpy()\n",
        "    pred_img = np.clip(pred_img, 0, 1)\n",
        "\n",
        "    plt.figure(figsize=(15, 5))\n",
        "    plt.subplot(1, 3, 1)\n",
        "    plt.title(\"Original Input\")\n",
        "    plt.imshow(original_img)\n",
        "    plt.axis('off')\n",
        "\n",
        "    plt.subplot(1, 3, 2)\n",
        "    plt.title(\"Processed Input\")\n",
        "    plt.imshow(polygon_img.squeeze(0).cpu().permute(1, 2, 0))\n",
        "    plt.axis('off')\n",
        "\n",
        "    plt.subplot(1, 3, 3)\n",
        "    plt.title(f\"Generated {color_name.title()} Polygon\")\n",
        "    plt.imshow(pred_img)\n",
        "    plt.axis('off')\n",
        "\n",
        "    plt.tight_layout()\n",
        "    plt.show()\n",
        "    print(f\"✅ Successfully generated {color_name} polygon!\")\n"
      ],
      "metadata": {
        "id": "LIueKbNleYs1"
      },
      "execution_count": null,
      "outputs": []
    },
    {
      "cell_type": "code",
      "source": [
        "import os\n",
        "import ipywidgets as widgets\n",
        "from IPython.display import display\n",
        "\n",
        "training_dataset_path = '/content/drive/MyDrive/dataset_Ayna/training'\n",
        "COLOR_LIST = [\"red\", \"green\", \"blue\", \"yellow\", \"orange\", \"purple\", \"cyan\", \"magenta\"]\n",
        "\n",
        "def colab_prompt_generate():\n",
        "    shape_dir = os.path.join(training_dataset_path, 'inputs')\n",
        "    shape_names = sorted([f.split('.')[0] for f in os.listdir(shape_dir) if f.endswith('.png')])\n",
        "\n",
        "    shape_dropdown = widgets.Dropdown(\n",
        "        options=shape_names,\n",
        "        description='Shape:',\n",
        "        style={'description_width': 'initial'}\n",
        "    )\n",
        "\n",
        "    color_dropdown = widgets.Dropdown(\n",
        "        options=COLOR_LIST,\n",
        "        description='Color:',\n",
        "        style={'description_width': 'initial'}\n",
        "    )\n",
        "\n",
        "    def on_button_click(b):\n",
        "        image_path = os.path.join(shape_dir, f\"{shape_dropdown.value}.png\")\n",
        "        generate_colored_polygon(image_path, color_dropdown.value)\n",
        "\n",
        "    button = widgets.Button(description=\"Generate Colored Polygon\")\n",
        "    button.on_click(on_button_click)\n",
        "\n",
        "    display(shape_dropdown, color_dropdown, button)\n",
        "\n",
        "colab_prompt_generate()\n"
      ],
      "metadata": {
        "colab": {
          "base_uri": "https://localhost:8080/",
          "height": 1000,
          "referenced_widgets": [
            "01dbeccff2bd43db9a9e5a9c067c62f1",
            "e7559563a07349039451544ff682842c",
            "9285173a703c49cb89b46d38d391fe5f",
            "f0c867c82d144fdf88b398eefdc7cb10",
            "09251ee973a04428823517875e874cb9",
            "633e5c5072074222a08f1f5540011fd6",
            "ed17772341a64115b2f9bc530ed36d62",
            "0e15718089294c99adcd60490297d9b3",
            "79014d99fb474492b4e9ee689aad308b"
          ]
        },
        "id": "HVFh70B7itgl",
        "outputId": "b933e69b-2922-405b-dda1-babaeb8df4f1"
      },
      "execution_count": null,
      "outputs": [
        {
          "output_type": "display_data",
          "data": {
            "text/plain": [
              "Dropdown(description='Shape:', options=('circle', 'diamond', 'hexagon', 'octagon', 'pentagon', 'square', 'star…"
            ],
            "application/vnd.jupyter.widget-view+json": {
              "version_major": 2,
              "version_minor": 0,
              "model_id": "01dbeccff2bd43db9a9e5a9c067c62f1"
            }
          },
          "metadata": {}
        },
        {
          "output_type": "display_data",
          "data": {
            "text/plain": [
              "Dropdown(description='Color:', options=('red', 'green', 'blue', 'yellow', 'orange', 'purple', 'cyan', 'magenta…"
            ],
            "application/vnd.jupyter.widget-view+json": {
              "version_major": 2,
              "version_minor": 0,
              "model_id": "f0c867c82d144fdf88b398eefdc7cb10"
            }
          },
          "metadata": {}
        },
        {
          "output_type": "display_data",
          "data": {
            "text/plain": [
              "Button(description='Generate Colored Polygon', style=ButtonStyle())"
            ],
            "application/vnd.jupyter.widget-view+json": {
              "version_major": 2,
              "version_minor": 0,
              "model_id": "ed17772341a64115b2f9bc530ed36d62"
            }
          },
          "metadata": {}
        },
        {
          "output_type": "display_data",
          "data": {
            "text/plain": [
              "<Figure size 1500x500 with 3 Axes>"
            ],
            "image/png": "[encoded data removed]"
          },
          "metadata": {}
        },
        {
          "output_type": "stream",
          "name": "stdout",
          "text": [
            "✅ Successfully generated red polygon!\n"
          ]
        },
        {
          "output_type": "display_data",
          "data": {
            "text/plain": [
              "<Figure size 1500x500 with 3 Axes>"
            ],
            "image/png": "[encoded data removed]"
          },
          "metadata": {}
        },
        {
          "output_type": "stream",
          "name": "stdout",
          "text": [
            "✅ Successfully generated yellow polygon!\n"
          ]
        },
        {
          "output_type": "display_data",
          "data": {
            "text/plain": [
              "<Figure size 1500x500 with 3 Axes>"
            ],
            "image/png": "[encoded data removed]"
          },
          "metadata": {}
        },
        {
          "output_type": "stream",
          "name": "stdout",
          "text": [
            "✅ Successfully generated purple polygon!\n"
          ]
        }
      ]
    }
  ]
}